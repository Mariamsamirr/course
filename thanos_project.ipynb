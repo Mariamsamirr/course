{
 "cells": [
  {
   "cell_type": "code",
   "execution_count": 57,
   "metadata": {},
   "outputs": [],
   "source": [
    "import os\n",
    "import time\n",
    "import random "
   ]
  },
  {
   "cell_type": "code",
   "execution_count": 58,
   "metadata": {},
   "outputs": [],
   "source": [
    "path='universe/'\n",
    "def names(path):\n",
    "    lst=os.listdir(path)\n",
    "    return lst\n",
    "def deletition(lst):\n",
    "    half=int(len(lst)/2)\n",
    "    for i in range(half):\n",
    "        lst=names('universe/')\n",
    "        os.remove('universe/'+random.choice(lst))\n",
    "        time.sleep(2)\n",
    "        print('kill done',lst[i])\n",
    "    "
   ]
  },
  {
   "cell_type": "code",
   "execution_count": 59,
   "metadata": {},
   "outputs": [
    {
     "name": "stdout",
     "output_type": "stream",
     "text": [
      "kill done cover001.png\n",
      "kill done cover002.png\n",
      "kill done cover003.png\n",
      "kill done cover004.png\n",
      "kill done cover005.png\n",
      "kill done cover007.png\n",
      "kill done cover008.png\n",
      "kill done cover009.png\n",
      "kill done cover011.png\n",
      "kill done cover012.png\n",
      "kill done cover014.png\n",
      "kill done cover015.png\n",
      "kill done cover018.png\n",
      "kill done cover020.png\n",
      "kill done cover022.png\n",
      "kill done cover025.png\n",
      "kill done cover028.png\n",
      "kill done cover029.png\n",
      "kill done cover030.png\n",
      "kill done cover032.png\n",
      "kill done cover036.png\n",
      "kill done cover040.png\n",
      "kill done cover041.png\n",
      "kill done cover043.png\n",
      "kill done cover047.png\n"
     ]
    }
   ],
   "source": [
    "deletition(lst)"
   ]
  },
  {
   "cell_type": "code",
   "execution_count": null,
   "metadata": {},
   "outputs": [],
   "source": []
  }
 ],
 "metadata": {
  "kernelspec": {
   "display_name": "Python 3",
   "language": "python",
   "name": "python3"
  },
  "language_info": {
   "codemirror_mode": {
    "name": "ipython",
    "version": 3
   },
   "file_extension": ".py",
   "mimetype": "text/x-python",
   "name": "python",
   "nbconvert_exporter": "python",
   "pygments_lexer": "ipython3",
   "version": "3.7.6"
  }
 },
 "nbformat": 4,
 "nbformat_minor": 4
}
